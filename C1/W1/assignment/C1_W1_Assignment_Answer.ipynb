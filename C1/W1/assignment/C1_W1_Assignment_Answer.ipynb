{
  "cells": [
    {
      "cell_type": "markdown",
      "metadata": {
        "id": "view-in-github",
        "colab_type": "text"
      },
      "source": [
        "<a href=\"https://colab.research.google.com/github/adeiskandarzulkarnaen/tf-public/blob/main/C1/W1/assignment/C1_W1_Assignment_Answer.ipynb\" target=\"_parent\"><img src=\"https://colab.research.google.com/assets/colab-badge.svg\" alt=\"Open In Colab\"/></a>"
      ]
    },
    {
      "cell_type": "markdown",
      "metadata": {
        "id": "mw2VBrBcgvGa"
      },
      "source": [
        "# Week 1 Assignment: Housing Prices\n",
        "\n",
        "Dalam latihan ini, Anda akan mencoba membangun _neural network_ yang memprediksi harga sebuah rumah berdasarkan rumus sederhana.\n",
        "\n",
        "Bayangkan bahwa penetapan harga rumah semudah ini:\n",
        "\n",
        "Sebuah rumah memiliki biaya dasar 50 ribu, dan setiap kamar tidur tambahan menambah biaya sebesar 50 ribu. Ini akan membuat rumah dengan 1 kamar tidur memiliki harga 100 ribu, rumah dengan 2 kamar tidur memiliki harga 150 ribu, dan seterusnya.\n",
        "\n",
        "Bagaimana Anda akan membuat _neural network_ yang mempelajari hubungan ini sehingga dapat memprediksi harga rumah dengan 7 kamar tidur seharga hampir 400 ribu, dan seterusnya.\n",
        "\n",
        "Hint: _Network_ Anda mungkin akan lebih baik jika Anda menurunkan skala harga rumah. Anda tidak harus memberikan jawaban 400... mungkin lebih baik membuat sesuatu yang memprediksi angka 4, dan kemudian jawaban Anda dalam 'ratusan ribu' dll."
      ]
    },
    {
      "cell_type": "code",
      "execution_count": 1,
      "metadata": {
        "id": "PUNO2E6SeURH",
        "tags": [
          "graded"
        ],
        "colab": {
          "base_uri": "https://localhost:8080/"
        },
        "outputId": "2cce135d-b0ee-4749-abd3-120cad6aea48"
      },
      "outputs": [
        {
          "output_type": "stream",
          "name": "stdout",
          "text": [
            "2.15.0\n"
          ]
        }
      ],
      "source": [
        "import tensorflow as tf\n",
        "import numpy as np\n",
        "\n",
        "print(tf.__version__)"
      ]
    },
    {
      "cell_type": "code",
      "execution_count": 2,
      "metadata": {
        "id": "B-74xrKrBqGJ",
        "tags": [
          "graded"
        ]
      },
      "outputs": [],
      "source": [
        "# GRADED FUNCTION: house_model\n",
        "def house_model():\n",
        "    ### START CODE HERE\n",
        "\n",
        "    # Define input and output tensors with the values for houses with 1 up to 6 bedrooms\n",
        "    # Hint: Remember to explictly set the dtype as float\n",
        "    xs = np.array([1.0, 2.0, 3.0, 4.0, 5.0, 6.0], dtype=float)\n",
        "    ys = np.array([1.0, 1.5, 2.0, 2.5, 3.0, 3.5], dtype=float)\n",
        "\n",
        "    # Define your model (should be a model with 1 dense layer and 1 unit)\n",
        "    model = tf.keras.Sequential([\n",
        "        tf.keras.layers.Dense(units=1, input_shape=[1])\n",
        "    ])\n",
        "\n",
        "    # Compile your model\n",
        "    # Set the optimizer to Stochastic Gradient Descent\n",
        "    # and use Mean Squared Error as the loss function\n",
        "    model.compile(optimizer='sgd', loss='mean_squared_error')\n",
        "\n",
        "    # Train your model for 1000 epochs by feeding the i/o tensors\n",
        "    model.fit(xs, ys, epochs=1000)\n",
        "\n",
        "    ### END CODE HERE\n",
        "    return model"
      ]
    },
    {
      "cell_type": "markdown",
      "metadata": {
        "id": "4OMM7VXeAxVf"
      },
      "source": [
        "Sekarang Anda memiliki sebuah fungsi yang mengembalikan model yang telah dikompilasi dan dilatih saat dipanggil, gunakan fungsi tersebut untuk membuat model memprediksi harga rumah:\n"
      ]
    },
    {
      "cell_type": "code",
      "execution_count": null,
      "metadata": {
        "tags": [
          "graded"
        ],
        "id": "MyjGiQ_VAxVg"
      },
      "outputs": [],
      "source": [
        "# Get your trained model\n",
        "model = house_model()"
      ]
    },
    {
      "cell_type": "markdown",
      "metadata": {
        "id": "yaQ8KEgAAxVg"
      },
      "source": [
        "Saat ini model Anda telah menyelesaikan pelatihan, sekarang saatnya untuk mengujinya! Anda dapat melakukannya dengan menjalankan sel berikutnya.\n"
      ]
    },
    {
      "cell_type": "code",
      "execution_count": 4,
      "metadata": {
        "id": "kMlInDdSBqGK",
        "tags": [
          "graded"
        ],
        "colab": {
          "base_uri": "https://localhost:8080/"
        },
        "outputId": "66eaf8a2-495f-403c-edca-1f929b5a0dce"
      },
      "outputs": [
        {
          "output_type": "stream",
          "name": "stdout",
          "text": [
            "1/1 [==============================] - 0s 253ms/step\n",
            "[4.008609]\n"
          ]
        }
      ],
      "source": [
        "new_y = 7.0\n",
        "prediction = model.predict([new_y])[0]\n",
        "print(prediction)"
      ]
    },
    {
      "cell_type": "markdown",
      "metadata": {
        "id": "e8k-itt1AxVh"
      },
      "source": [
        "Jika semuanya berjalan sesuai harapan, anda seharusnya melihat nilai prediksi yang sangat dekat dengan 4. **Jika tidak, coba sesuaikan kode Anda sebelum mengirimkan tugas tersebut.** Perhatikan bahwa Anda dapat bermain-main dengan nilai `new_y` untuk mendapatkan prediksi yang berbeda. Secara umum Anda akan melihat bahwa _network_ mampu mempelajari hubungan linier antara `x` dan `y`, jadi jika anda menggunakan nilai 8.0, anda seharusnya mendapatkan prediksi yang mendekati 4.5 dan seterusnya.\n"
      ]
    },
    {
      "cell_type": "markdown",
      "metadata": {
        "id": "Hkdu4sKwAxVh"
      },
      "source": [
        "**Congratulations on finishing this week's assignment!**\n",
        "\n",
        "Anda telah berhasil membuat kode _neural network_ yang mempelajari hubungan linier antara dua variabel. Nice job!\n",
        "\n",
        "**Keep it up!**"
      ]
    }
  ],
  "metadata": {
    "kernelspec": {
      "display_name": "Python 3",
      "language": "python",
      "name": "python3"
    },
    "language_info": {
      "codemirror_mode": {
        "name": "ipython",
        "version": 3
      },
      "file_extension": ".py",
      "mimetype": "text/x-python",
      "name": "python",
      "nbconvert_exporter": "python",
      "pygments_lexer": "ipython3",
      "version": "3.8.8"
    },
    "colab": {
      "provenance": [],
      "include_colab_link": true
    }
  },
  "nbformat": 4,
  "nbformat_minor": 0
}