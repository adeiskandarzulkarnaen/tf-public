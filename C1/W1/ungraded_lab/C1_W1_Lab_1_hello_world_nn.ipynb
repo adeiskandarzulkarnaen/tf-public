{
  "cells": [
    {
      "cell_type": "markdown",
      "metadata": {
        "id": "view-in-github",
        "colab_type": "text"
      },
      "source": [
        "<a href=\"https://colab.research.google.com/github/adeiskandarzulkarnaen/tf-public/blob/main/C1/W1%20/ungraded_lab/Copy_of_C1_W1_Lab_1_hello_world_nn.ipynb\" target=\"_parent\"><img src=\"https://colab.research.google.com/assets/colab-badge.svg\" alt=\"Open In Colab\"/></a>"
      ]
    },
    {
      "cell_type": "markdown",
      "metadata": {
        "id": "ZIAkIlfmCe1B"
      },
      "source": [
        "# Ungraded Lab: The Hello World of Deep Learning with Neural Networks"
      ]
    },
    {
      "cell_type": "markdown",
      "metadata": {
        "id": "fA93WUy1zzWf"
      },
      "source": [
        "Seperti pada setiap aplikasi pertama, Anda harus memulai dengan sesuatu yang sangat sederhana yang menunjukkan keseluruhan bagaimana kode Anda bekerja. Dalam kasus pembuatan neural networks, satu contoh sederhana adalah mempelajari hubungan antara dua angka. Misalnya, jika Anda menulis kode untuk fungsi semacam ini, Anda telah memahami 'aturannya':\n",
        "\n",
        "```\n",
        "def hw_function(x):\n",
        "    y = (2 * x) - 1\n",
        "    return y\n",
        "```\n",
        "\n",
        "Jadi, bagaimana Anda melatih neural network untuk melakukan tugas serupa? Dengan menggunakan data! Dengan memberikan satu set data x dan y, neural network seharusnya dapat mempelajari hubungan di antara keduanya.\n",
        "\n",
        "\n",
        "Ini jelas merupakan paradigma yang sangat berbeda dari apa yang biasa Anda lakukan. Jadi mari kita bahas bagian demi bagian."
      ]
    },
    {
      "cell_type": "markdown",
      "metadata": {
        "id": "DzbtdRcZDO9B"
      },
      "source": [
        "## Imports\n",
        "\n",
        "Mari kita mulai dengan impor. Di sini, anda mengimpor [TensorFlow](https://www.tensorflow.org/) dan menyebutnya `tf` untuk _convention_ dan kemudahan penggunaan.\n",
        "\n",
        "Anda kemudian mengimpor library bernama [`numpy`](https://numpy.org) yang membantu merepresentasikan data sebagai array dengan mudah dan mengoptimalkan operasi numerik.\n",
        "\n",
        "Framework yang akan anda gunakan untuk membangun sebuah neural network sebagai _sequence of layers_ disebut [`keras`](https://keras.io/), sehingga anda akan mengimpornya juga."
      ]
    },
    {
      "cell_type": "code",
      "execution_count": null,
      "metadata": {
        "id": "X9uIpOS2zx7k"
      },
      "outputs": [],
      "source": [
        "import tensorflow as tf\n",
        "import numpy as np\n",
        "from tensorflow import keras\n",
        "\n",
        "print(tf.__version__)"
      ]
    },
    {
      "cell_type": "markdown",
      "metadata": {
        "id": "wwJGmDrQ0EoB"
      },
      "source": [
        "## Define and Compile the Neural Network\n",
        "\n",
        "Selanjutnya, Anda akan membuat *neural network* yang paling sederhana. Jaringan ini terdiri dari 1 *layer* dengan 1 neuron, dan bentuk inputnya hanya 1 nilai. Anda akan membangun model ini menggunakan kelas [Sequential](https://keras.io/api/models/sequential/) dari Keras yang memungkinkan Anda mendefinisikan jaringan sebagai sequence of [layers](https://keras.io/api/layers/). Anda dapat menggunakan satu [Dense](https://keras.io/api/layers/core_layers/dense/) layer untuk membangun jaringan sederhana ini seperti yang ditunjukkan di bawah ini."
      ]
    },
    {
      "cell_type": "code",
      "execution_count": null,
      "metadata": {
        "id": "kQFAr_xo0M4T"
      },
      "outputs": [],
      "source": [
        "# Build a simple Sequential model\n",
        "model = tf.keras.Sequential([keras.layers.Dense(units=1, input_shape=[1])])"
      ]
    },
    {
      "cell_type": "markdown",
      "metadata": {
        "id": "KhjZjZ-c0Ok9"
      },
      "source": [
        "Sekarang, anda akan mengkompilasi _neural network_. Saat Anda melakukannya, anda harus menentukan 2 fungsi: [loss](https://keras.io/api/losses/) function dan [optimizer](https://keras.io/api/optimizers/) function.\n",
        "\n",
        "Jika Anda telah menemui banyak konsep matematika dalam _Machine Learning_, inilah saatnya di mana matematika tersebut biasanya diterapkan. Namun, dalam kasus ini, semuanya telah dikemas dengan rapi dalam fungsi dan kelas untuk Anda. Namun, apa sebenarnya yang terjadi di sini? Mari kita jelaskan...\n",
        "\n",
        "Anda tahu bahwa dalam fungsi yang dideklarasikan di awal notebook ini, hubungan antara bilangan adalah `y=2x-1`. Saat komputer mencoba 'mempelajarinya', ia menebak... mungkin `y=10x+10`. _`Loss` function_ mengukur seberapa jauh jawaban yang ditebak dari jawaban benar yang diketahui, dan menilai seberapa baik atau buruk hasilnya.\n",
        "\n",
        "Kemudian, Anda menggunakan `optimizer` function untuk membuat tebakan lain. Berdasarkan bagaimana _loss function_ berjalan, fungsi tersebut akan berusaha meminimalkan loss (kerugian). Pada titik tersebut, mungkin akan muncul suatu fungsi seperti `y=5x+5`, yang meskipun masih kurang tepat, lebih mendekati hasil yang benar (artinya, kerugiannya lebih rendah).\n",
        "\n",
        "Ini akan mengulangi proses tersebut untuk sejumlah _epoch_ yang akan Anda lihat sebentar lagi. Namun sebelum itu, inilah cara anda memerintahkan sistem untuk menggunakan [mean squared error](https://keras.io/api/losses/regression_losses/#meansquarederror-function) sebagai ukuran kerugian (loss) dan [stochastic gradient descent](https://keras.io/api/optimizers/sgd/) sebagai optimizer. Anda tidak perlu memahami perhitungan matematikanya sekarang, tetapi Anda dapat melihat bahwa cara tersebut berhasil!\n",
        "\n",
        "Seiring waktu, Anda akan mempelajari _loss function_ dan _optimizer function_ yang berbeda dan sesuai untuk berbagai skenario."
      ]
    },
    {
      "cell_type": "code",
      "execution_count": null,
      "metadata": {
        "id": "m8YQN1H41L-Y"
      },
      "outputs": [],
      "source": [
        "# Compile the model\n",
        "model.compile(optimizer='sgd', loss='mean_squared_error')"
      ]
    },
    {
      "cell_type": "markdown",
      "metadata": {
        "id": "5QyOUhFw1OUX"
      },
      "source": [
        "## Providing the Data\n",
        "\n",
        "Selanjutnya, Anda akan memasukkan beberapa data. Dalam hal ini, Anda mengambil 6 X dan 6 Y. Anda dapat melihat bahwa hubungan antara keduanya adalah `y=2x-1`. Sebagai contoh, jika `x = -1`, maka `y = -3`, dan seterusnya.\n",
        "\n",
        "Cara standar _de facto_ untuk mendeklarasikan masukan dan keluaran model adalah dengan menggunakan `numpy`, library Python yang menyediakan banyak struktur data berbentuk array. Anda dapat menentukan nilai-nilai ini dengan membuat array NumPy menggunakan [`np.array()`](https://numpy.org/doc/stable/reference/generated/numpy.array.html)."
      ]
    },
    {
      "cell_type": "code",
      "execution_count": null,
      "metadata": {
        "id": "4Dxk4q-jzEy4"
      },
      "outputs": [],
      "source": [
        "# Declare model inputs and outputs for training\n",
        "xs = np.array([-1.0,  0.0, 1.0, 2.0, 3.0, 4.0], dtype=float)\n",
        "ys = np.array([-3.0, -1.0, 1.0, 3.0, 5.0, 7.0], dtype=float)"
      ]
    },
    {
      "cell_type": "markdown",
      "metadata": {
        "id": "n_YcWRElnM_b"
      },
      "source": [
        "# Training the Neural Network\n",
        "\n",
        "Proses pelatihan neural network, yang 'mempelajari' hubungan antara x dan y, ada dalam pemanggilan [`model.fit()`](https://keras.io/api/models/model_training_apis/#fit-method). Di sini, proses akan melalui loop yang telah kita bahas sebelumnya: membuat prediksi, mengevaluasi kecocokannya (disebut juga kerugian/loss), menggunakan _optimizer_ untuk membuat prediksi berikutnya, dan seterusnya. Proses ini akan berlangsung selama jumlah `epoch` yang Anda tentukan. Ketika Anda menjalankan kode ini, Anda akan melihat nilai kerugian/loss di sisi kanan.\n",
        "\n",
        "\n",
        "\n"
      ]
    },
    {
      "cell_type": "code",
      "execution_count": null,
      "metadata": {
        "id": "lpRrl7WK10Pq"
      },
      "outputs": [],
      "source": [
        "# Train the model\n",
        "model.fit(xs, ys, epochs=500)"
      ]
    },
    {
      "cell_type": "markdown",
      "metadata": {
        "id": "kaFIr71H2OZ-"
      },
      "source": [
        "Oke, sekarang Anda sudah memiliki model yang telah dilatih untuk mempelajari hubungan antara `x` dan `y`. Anda dapat menggunakan method [`model.predict()`](https://keras.io/api/models/model_training_apis/#predict-method) untuk mengetahui nilai `y` untuk nilai `x` yang sebelumnya tidak diketahui. Jadi, misalnya, jika `x=10`, menurut Anda berapa nilai `y`? Coba tebak sebelum Anda menjalankan kode ini:"
      ]
    },
    {
      "cell_type": "code",
      "execution_count": null,
      "metadata": {
        "id": "oxNzL4lS2Gui"
      },
      "outputs": [],
      "source": [
        "# Make a prediction\n",
        "print(model.predict([10.0]))"
      ]
    },
    {
      "cell_type": "markdown",
      "metadata": {
        "id": "btF2CSFH2iEX"
      },
      "source": [
        "Anda mungkin mengira `19`, bukan? Tapi pada khirnya menjadi sedikit di bawah. Menurut Anda mengapa demikian?\n",
        "\n",
        "Ingatlah bahwa _neural networks_ berhubungan dengan probabilitas. Jadi berdasarkan data yang kita masukkan ke dalam model, maka dihitung bahwa ada probabilitas yang sangat tinggi bahwa hubungan antara `x` dan `y` adalah `y=2x-1`, tetapi dengan hanya 6 titik data, kita tidak dapat mengetahui secara pasti. Sebagai hasilnya, nilai 10 sangat mendekati 19, namun bukanlah 19 dengan pasti.\n",
        "\n",
        "Saat Anda bekerja dengan neural networks, Anda akan melihat pola ini berulang. Anda hampir selalu berurusan dengan probabilitas, bukan kepastian, dan akan melakukan sedikit pengkodean untuk mengetahui hasil berdasarkan probabilitas, terutama dalam hal klasifikasi.\n",
        "\n",
        "\n",
        "\n",
        "\n",
        "\n",
        "\n",
        "\n",
        "\n"
      ]
    }
  ],
  "metadata": {
    "colab": {
      "private_outputs": true,
      "provenance": [],
      "toc_visible": true,
      "include_colab_link": true
    },
    "kernelspec": {
      "display_name": "Python 3",
      "name": "python3"
    },
    "language_info": {
      "codemirror_mode": {
        "name": "ipython",
        "version": 3
      },
      "file_extension": ".py",
      "mimetype": "text/x-python",
      "name": "python",
      "nbconvert_exporter": "python",
      "pygments_lexer": "ipython3",
      "version": "3.7.4"
    }
  },
  "nbformat": 4,
  "nbformat_minor": 0
}